{
 "cells": [
  {
   "cell_type": "code",
   "execution_count": 1,
   "metadata": {},
   "outputs": [],
   "source": [
    "class Cat():\n",
    "    pass\n",
    "\n",
    "cat = Cat()\n",
    "cat.name = \"michaelcat\"\n",
    "cat.politeness = 9"
   ]
  },
  {
   "cell_type": "code",
   "execution_count": 5,
   "metadata": {},
   "outputs": [
    {
     "name": "stdout",
     "output_type": "stream",
     "text": [
      "What type of vehicle do you own? death cycle\n",
      "Enter year: 4002\n",
      "Enter make: TJURBY DIE GIH\n",
      "Enter model: CYCLOTONT SPUERM\n",
      "How many doors does your death cycle have? 1\n",
      "Does your death cycle have a solid roof or a sunroof? solid roof\n",
      "Vehicle type: death cycle\n",
      "Year: 4002\n",
      "Make: TJURBY DIE GIH\n",
      "Model: CYCLOTONT SPUERM\n",
      "Number of doors: 1\n",
      "Type of roof: solid roof\n"
     ]
    }
   ],
   "source": [
    "class Vehicle():\n",
    "    def __init__(self, vehicle_type):\n",
    "        self.vehicle_type = vehicle_type\n",
    "    \n",
    "class Automobile(Vehicle):\n",
    "    def __init__(self, year, make, model, doors, roof, vehicle_type = \"Automobile\"):\n",
    "        super().__init__(vehicle_type)\n",
    "        self.year = year\n",
    "        self.make = make\n",
    "        self.model = model\n",
    "        self.doors = doors\n",
    "        self.roof = roof\n",
    "    \n",
    "vehicle_type = input(\"What type of vehicle do you own? \")\n",
    "year = input(\"Enter year: \")\n",
    "make = input(\"Enter make: \")\n",
    "model = input(\"Enter model: \")\n",
    "doors = input(f\"How many doors does your {vehicle_type} have? \")\n",
    "roof = input(f\"Does your {vehicle_type} have a solid roof or a sunroof? \")\n",
    "dude = Automobile(year, make, model, doors, roof, vehicle_type)\n",
    "\n",
    "print(\"Vehicle type:\", dude.vehicle_type)\n",
    "print(\"Year:\", dude.year)\n",
    "print(\"Make:\", dude.make)\n",
    "print(\"Model:\", dude.model)\n",
    "print(\"Number of doors:\", dude.doors)\n",
    "print(\"Type of roof:\", dude.roof)\n",
    "\n"
   ]
  },
  {
   "cell_type": "code",
   "execution_count": null,
   "metadata": {},
   "outputs": [],
   "source": []
  },
  {
   "cell_type": "code",
   "execution_count": null,
   "metadata": {},
   "outputs": [],
   "source": []
  }
 ],
 "metadata": {
  "kernelspec": {
   "display_name": "Python 3",
   "language": "python",
   "name": "python3"
  },
  "language_info": {
   "codemirror_mode": {
    "name": "ipython",
    "version": 3
   },
   "file_extension": ".py",
   "mimetype": "text/x-python",
   "name": "python",
   "nbconvert_exporter": "python",
   "pygments_lexer": "ipython3",
   "version": "3.7.4"
  }
 },
 "nbformat": 4,
 "nbformat_minor": 2
}
