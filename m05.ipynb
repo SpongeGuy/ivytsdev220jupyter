{
 "cells": [
  {
   "cell_type": "code",
   "execution_count": 45,
   "metadata": {},
   "outputs": [],
   "source": [
    "# 13.1\n",
    "import time\n",
    "now = time.time()\n",
    "out = time.ctime(now)\n",
    "with open('result.txt', 'w') as file:\n",
    "    file.write(out)"
   ]
  },
  {
   "cell_type": "code",
   "execution_count": 46,
   "metadata": {},
   "outputs": [
    {
     "name": "stdout",
     "output_type": "stream",
     "text": [
      "Sat Feb 25 17:42:16 2023\n"
     ]
    }
   ],
   "source": [
    "# 13.2\n",
    "with open('result.txt') as file:\n",
    "    today_string = file.read()\n",
    "print(today_string)"
   ]
  },
  {
   "cell_type": "code",
   "execution_count": 48,
   "metadata": {},
   "outputs": [
    {
     "data": {
      "text/plain": [
       "'Sat Feb 25 17:42:16 2023'"
      ]
     },
     "execution_count": 48,
     "metadata": {},
     "output_type": "execute_result"
    }
   ],
   "source": [
    "# 13.3\n",
    "from datetime import datetime as time\n",
    "fmt = \"%a %b %d %H:%M:%S %Y\"\n",
    "with open('result.txt') as file:\n",
    "    today_string = file.read()\n",
    "    today_string = time.strptime(today_string, fmt)\n",
    "\n",
    "today_string.strftime(fmt)"
   ]
  },
  {
   "cell_type": "code",
   "execution_count": 62,
   "metadata": {},
   "outputs": [
    {
     "name": "stdout",
     "output_type": "stream",
     "text": [
      "Process 34788 says: I'm the main program\n"
     ]
    }
   ],
   "source": [
    "import multiprocessing\n",
    "import os\n",
    "\n",
    "def whoami(what):\n",
    "    print(\"Process %s says: %s\" % (os.getpid(), what))\n",
    "\n",
    "if __name__ == \"__main__\":\n",
    "    whoami(\"I'm the main program\")\n",
    "    for n in range(4):\n",
    "        p = multiprocessing.Process(target=whoami,\n",
    "          args=(\"I'm function %s\" % n,))\n",
    "        p.start()"
   ]
  },
  {
   "cell_type": "code",
   "execution_count": 63,
   "metadata": {},
   "outputs": [
    {
     "name": "stdout",
     "output_type": "stream",
     "text": [
      "I'm main, in process 34788\n"
     ]
    }
   ],
   "source": [
    "# 15.1\n",
    "import multiprocessing\n",
    "import random\n",
    "import time\n",
    "import os\n",
    "\n",
    "def whoami(name):\n",
    "    print(\"I'm %s, in process %s\" % (name, os.getpid()))\n",
    "\n",
    "def waiting(name):\n",
    "    whoami(name)\n",
    "    wait = random.randint(0, 10)\n",
    "    time.sleep(wait)\n",
    "    now = time.time()\n",
    "    out = time.ctime(now)\n",
    "    print(out)\n",
    "    \n",
    "\n",
    "if __name__ == \"__main__\":\n",
    "    whoami(\"main\")\n",
    "    a = multiprocessing.Process(target=waiting, args=(\"alex\",))\n",
    "    b = multiprocessing.Process(target=waiting, args=(\"bob\",))\n",
    "    c = multiprocessing.Process(target=waiting, args=(\"chuck\",))\n",
    "    a.start()\n",
    "    b.start()\n",
    "    c.start()"
   ]
  },
  {
   "cell_type": "code",
   "execution_count": null,
   "metadata": {},
   "outputs": [],
   "source": []
  }
 ],
 "metadata": {
  "kernelspec": {
   "display_name": "Python 3",
   "language": "python",
   "name": "python3"
  },
  "language_info": {
   "codemirror_mode": {
    "name": "ipython",
    "version": 3
   },
   "file_extension": ".py",
   "mimetype": "text/x-python",
   "name": "python",
   "nbconvert_exporter": "python",
   "pygments_lexer": "ipython3",
   "version": "3.7.4"
  }
 },
 "nbformat": 4,
 "nbformat_minor": 2
}
